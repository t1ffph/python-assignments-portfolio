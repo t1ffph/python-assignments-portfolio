{
 "cells": [
  {
   "cell_type": "code",
   "execution_count": 1,
   "id": "689edab0",
   "metadata": {},
   "outputs": [],
   "source": [
    "def apprx_arctan(x):\n",
    "    if x<0 or x>1:\n",
    "        return \"Error!\" #x must be within 0 and 1\n",
    "    \n",
    "    if 0<=x<=1:\n",
    "        a=0 #initializing each variable\n",
    "        n=0\n",
    "        error_bound=1\n",
    "        \n",
    "        while error_bound>=0.0001:\n",
    "            n+=1\n",
    "            summ=((-1)**(n-1))*(x**(2*n-1))/(2*n-1) #summation approximation equation\n",
    "            a+=summ #...the value of which can be repeatedly added per degree increase\n",
    "            error_bound=(x**(2*n+1)/(2*n+1)) #updated error bound with the absolute value of the current term\n",
    "            \n",
    "            return(a,n,error_bound)"
   ]
  },
  {
   "cell_type": "code",
   "execution_count": 2,
   "id": "cbcd1e75",
   "metadata": {
    "scrolled": true
   },
   "outputs": [
    {
     "data": {
      "text/plain": [
       "'Error!'"
      ]
     },
     "execution_count": 2,
     "metadata": {},
     "output_type": "execute_result"
    }
   ],
   "source": [
    "apprx_arctan(-1)"
   ]
  },
  {
   "cell_type": "code",
   "execution_count": 3,
   "id": "2d98eef3",
   "metadata": {},
   "outputs": [
    {
     "data": {
      "text/plain": [
       "(0.0, 1, 0.0)"
      ]
     },
     "execution_count": 3,
     "metadata": {},
     "output_type": "execute_result"
    }
   ],
   "source": [
    "apprx_arctan(0)"
   ]
  },
  {
   "cell_type": "code",
   "execution_count": 4,
   "id": "ec16800c",
   "metadata": {
    "scrolled": true
   },
   "outputs": [
    {
     "data": {
      "text/plain": [
       "(0.25, 1, 0.005208333333333333)"
      ]
     },
     "execution_count": 4,
     "metadata": {},
     "output_type": "execute_result"
    }
   ],
   "source": [
    "apprx_arctan(0.25)"
   ]
  },
  {
   "cell_type": "code",
   "execution_count": 5,
   "id": "a041dccd",
   "metadata": {
    "scrolled": true
   },
   "outputs": [
    {
     "data": {
      "text/plain": [
       "(0.5, 1, 0.041666666666666664)"
      ]
     },
     "execution_count": 5,
     "metadata": {},
     "output_type": "execute_result"
    }
   ],
   "source": [
    "apprx_arctan(0.5)"
   ]
  },
  {
   "cell_type": "code",
   "execution_count": 6,
   "id": "589383aa",
   "metadata": {
    "scrolled": true
   },
   "outputs": [
    {
     "data": {
      "text/plain": [
       "(0.75, 1, 0.140625)"
      ]
     },
     "execution_count": 6,
     "metadata": {},
     "output_type": "execute_result"
    }
   ],
   "source": [
    "apprx_arctan(0.75)"
   ]
  },
  {
   "cell_type": "code",
   "execution_count": 7,
   "id": "e9464ffa",
   "metadata": {},
   "outputs": [
    {
     "data": {
      "text/plain": [
       "(1.0, 1, 0.3333333333333333)"
      ]
     },
     "execution_count": 7,
     "metadata": {},
     "output_type": "execute_result"
    }
   ],
   "source": [
    "apprx_arctan(1)"
   ]
  }
 ],
 "metadata": {
  "kernelspec": {
   "display_name": "Python 3 (ipykernel)",
   "language": "python",
   "name": "python3"
  },
  "language_info": {
   "codemirror_mode": {
    "name": "ipython",
    "version": 3
   },
   "file_extension": ".py",
   "mimetype": "text/x-python",
   "name": "python",
   "nbconvert_exporter": "python",
   "pygments_lexer": "ipython3",
   "version": "3.11.4"
  }
 },
 "nbformat": 4,
 "nbformat_minor": 5
}
