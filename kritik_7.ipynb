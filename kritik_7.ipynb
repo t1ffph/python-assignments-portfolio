{
 "cells": [
  {
   "cell_type": "code",
   "execution_count": 46,
   "id": "7198436b",
   "metadata": {},
   "outputs": [
    {
     "name": "stdout",
     "output_type": "stream",
     "text": [
      "Standard Deviation: 9.670372071435516\n",
      "t0 is: 2.413964376439728\n",
      "t* is: 2.2522252225222523\n",
      "t0 is within the interval [-t*, t*]: False\n"
     ]
    },
    {
     "data": {
      "text/plain": [
       "\"\\n#since the t0 value is larger than the t* value, we can reject the null hypothesis u=75 to say that the new testing\\nmethod has an effect on student scores. While it is possible that the effect is positive since the mean of the \\nstudent's scores are above 75, the t-test itself cannot predict whether the impact is positive or negative. \\n\""
      ]
     },
     "execution_count": 46,
     "metadata": {},
     "output_type": "execute_result"
    }
   ],
   "source": [
    "import numpy as np\n",
    "from scipy.stats import t #used the scipy library because it seemed we needed it for iii?? otherwise it wouldn't run :(\n",
    "\n",
    "test_scores = [92.64,79.00,84.79,97.41,93.68,65.23,84.50,73.49,73.97,79.11] #list of test scores\n",
    "\n",
    "###i\n",
    "#in order to calculate standard deviation, need the mean\n",
    "mean = sum(test_scores)/len(test_scores)\n",
    "\n",
    "#square of distance to mean\n",
    "def calculate_squared_distances(test_scores, mean):\n",
    "    return [(x - mean)**2 for x in test_scores]\n",
    "\n",
    "#sum of all squares + divide by number of data points\n",
    "def sum_squares_byvalue(squared_distances):\n",
    "    return sum(squared_distances)/len(test_scores)\n",
    "\n",
    "#finally, root of all the numbers which is equal to a value raised to a half\n",
    "def calculate_standard_deviation(test_scores):\n",
    "    squared_distances = calculate_squared_distances(test_scores, mean)\n",
    "    variance = sum_squares_byvalue(squared_distances)\n",
    "    return variance ** 0.5\n",
    "\n",
    "std_deviation = calculate_standard_deviation(test_scores)\n",
    "print(\"Standard Deviation:\", std_deviation)\n",
    "\n",
    "###ii\n",
    "def calculate_t0(x_bar, mu_0, s, n):\n",
    "    return (x_bar - mu_0) / (s / (n ** 0.5)) #calculation provided in kritik7\n",
    "\n",
    "#defined values as asked for by the student's t test\n",
    "x_bar = mean\n",
    "mu_0 = 75\n",
    "s = std_deviation\n",
    "n = len(test_scores)\n",
    "\n",
    "t0 = calculate_t0(x_bar, mu_0, s, n)\n",
    "print(\"t0 is:\", t0)\n",
    "\n",
    "###iii\n",
    "#used scipy library functions + greg's code as provided in the kritik\n",
    "def find_t_star(prob, nu, x_start=0, x_end=20, num_points=10000):\n",
    "    # Define the x values\n",
    "    x = np.linspace(x_start, x_end, num_points)\n",
    "    # Apply the density function to the x values\n",
    "    y = t.pdf(x, nu)\n",
    "    # This next line is the integration (exercise: why does this work? --> calculating sum of 7 axis using intervals as defined)\n",
    "    cdf = np.cumsum(y) * (x[1] - x[0])\n",
    "    # Find the t-value where the cumulative probability reaches half of the required probability\n",
    "    target_half_prob = prob / 2\n",
    "    index = np.where(cdf >= target_half_prob)[0][0]\n",
    "    return x[index]\n",
    "\n",
    "t_star = find_t_star(0.95, nu=9)  # nu=n-1 where n is sample size (student's t test)\n",
    "print(\"t* is:\", t_star)\n",
    "\n",
    "###iv\n",
    "def t0_within_interval(t_star, t_0):\n",
    "    return abs(t_0) <= t_star #comparison if less than or equal to will be within interval\n",
    "\n",
    "checking = t0_within_interval(t_star, t_0)\n",
    "print(\"t0 is within the interval [-t*, t*]:\", checking)\n",
    "\n",
    "###v\n",
    "\"\"\"\n",
    "since the t0 value is larger than the t* value, we can reject the null hypothesis u=75 to say that the new testing\n",
    "method has an effect on student scores. While it is possible that the effect is positive since the mean of the \n",
    "student's scores are above 75, the t-test itself cannot predict whether the impact is positive or negative. \n",
    "\"\"\""
   ]
  }
 ],
 "metadata": {
  "kernelspec": {
   "display_name": "Python 3 (ipykernel)",
   "language": "python",
   "name": "python3"
  },
  "language_info": {
   "codemirror_mode": {
    "name": "ipython",
    "version": 3
   },
   "file_extension": ".py",
   "mimetype": "text/x-python",
   "name": "python",
   "nbconvert_exporter": "python",
   "pygments_lexer": "ipython3",
   "version": "3.11.4"
  }
 },
 "nbformat": 4,
 "nbformat_minor": 5
}
