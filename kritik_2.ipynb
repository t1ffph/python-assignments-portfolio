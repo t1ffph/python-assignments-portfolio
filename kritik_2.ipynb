{
 "cells": [
  {
   "cell_type": "code",
   "execution_count": 43,
   "id": "1b26f882",
   "metadata": {
    "scrolled": true
   },
   "outputs": [
    {
     "name": "stdout",
     "output_type": "stream",
     "text": [
      "the root is approximately: 0.2698741376\n"
     ]
    }
   ],
   "source": [
    "def roots(f,a,b):\n",
    "    if f(a) * f(b) >=0: #the bisection method relies on the endpoints to have different signs in order to run\n",
    "        print(\"no root exists on this interval\")\n",
    "    \n",
    "    lbound = a\n",
    "    rbound = b\n",
    "    precision = 1e-10 #up to 10 decimal points, as the question instructed\n",
    "    \n",
    "    if (abs(f(lbound)) < precision): #if the left bound is the zero\n",
    "        return round(lbound, 10)\n",
    "\n",
    "    elif (abs(f(rbound)) < precision): #if the right bound is the zero\n",
    "        return round(rbound, 10)\n",
    "    \n",
    "    while (rbound-lbound) > precision: #finding the bisection using the bisection method\n",
    "        bisection = (lbound+rbound)/2\n",
    "        if f(bisection) == 0:\n",
    "            return round(bisection,10)\n",
    "        elif f(bisection) * f(lbound) <0:\n",
    "            rbound = bisection #bisection assigned to new right bound\n",
    "        else:\n",
    "            lbound = bisection\n",
    "            \n",
    "    return round(bisection, 10) #bisection rounded to 10 decimal points \n",
    "    \n",
    "import math\n",
    "\n",
    "def f(x): #defining the function that will run in the roots code\n",
    "    return math.e**x + math.log(x) #test function 1\n",
    "\n",
    "a = 0.00000001 #there shouldn't be a square bracket around 0 since ln(0) doesn't exist; use a value close to 0 instead\n",
    "b = 1\n",
    "root = roots(f,a,b)\n",
    "if root is not None:\n",
    "    print(\"the root is approximately:\", root)"
   ]
  },
  {
   "cell_type": "code",
   "execution_count": 36,
   "id": "8290d43e",
   "metadata": {},
   "outputs": [
    {
     "name": "stdout",
     "output_type": "stream",
     "text": [
      "the root is approximately: 0\n"
     ]
    }
   ],
   "source": [
    "def roots(f,a,b):\n",
    "    if f(a) * f(b) > 0:\n",
    "        print(\"no root exists on this interval\")\n",
    "    \n",
    "    lbound = a\n",
    "    rbound = b\n",
    "    precision = 1e-10\n",
    "    \n",
    "    if (abs(f(lbound)) < precision): #if the left bound is the zero\n",
    "        return round(lbound, 10)\n",
    "\n",
    "    elif (abs(f(rbound)) < precision): #if the right bound is the zero\n",
    "        return round(rbound, 10)\n",
    "    \n",
    "    while (rbound-lbound) > precision:\n",
    "        bisection = (lbound+rbound)/2\n",
    "        if f(bisection) == 0:\n",
    "            return round(bisection,10)\n",
    "        elif f(bisection) * f(lbound) <0:\n",
    "            rbound = bisection\n",
    "        else:\n",
    "            lbound = bisection\n",
    "            \n",
    "    return round(bisection, 10)   \n",
    "    \n",
    "import numpy as np\n",
    "import math\n",
    "\n",
    "def f(x):\n",
    "    return math.atan(x)-x**2 #test function 2\n",
    "\n",
    "a = 0\n",
    "b = 2\n",
    "root = roots(f,a,b)\n",
    "if root is not None:\n",
    "    print(\"the root is approximately:\", root) #to explain the answer, the endpoint is a root to the function since f(a) = 0"
   ]
  },
  {
   "cell_type": "code",
   "execution_count": 42,
   "id": "04ec29fc",
   "metadata": {},
   "outputs": [
    {
     "name": "stdout",
     "output_type": "stream",
     "text": [
      "the root is approximately: 3.1415926536\n"
     ]
    }
   ],
   "source": [
    "def roots(f,a,b):\n",
    "    if f(a) * f(b) > 0:\n",
    "        print(\"no root exists on this interval\")\n",
    "    \n",
    "    lbound = a\n",
    "    rbound = b\n",
    "    precision = 1e-10\n",
    "    \n",
    "    if (abs(f(lbound)) < precision): #if the left bound is the zero\n",
    "        return round(lbound, 10)\n",
    "\n",
    "    elif (abs(f(rbound)) < precision): #if the right bound is the zero\n",
    "        return round(rbound, 10)\n",
    "    \n",
    "    while (rbound-lbound) > precision:\n",
    "        bisection = (lbound+rbound)/2\n",
    "        if f(bisection) == 0:\n",
    "            return round(bisection,10)\n",
    "        elif f(bisection) * f(lbound) <0:\n",
    "            rbound = bisection\n",
    "        else:\n",
    "            lbound = bisection\n",
    "            \n",
    "    return round(bisection, 10)   \n",
    "    \n",
    "import numpy as np\n",
    "import math\n",
    "\n",
    "def f(x):#test function 3\n",
    "    return math.sin(x)/math.log(x)\n",
    "\n",
    "a = 3\n",
    "b = 4\n",
    "root = roots(f,a,b)\n",
    "if root is not None:\n",
    "    print(\"the root is approximately:\", root)"
   ]
  },
  {
   "cell_type": "code",
   "execution_count": 40,
   "id": "8abe6926",
   "metadata": {},
   "outputs": [
    {
     "name": "stdout",
     "output_type": "stream",
     "text": [
      "no root exists on this interval\n"
     ]
    }
   ],
   "source": [
    "def roots(f,a,b):\n",
    "    if f(a) * f(b) > 0:\n",
    "        print(\"no root exists on this interval\")\n",
    "    \n",
    "    lbound = a\n",
    "    rbound = b\n",
    "    precision = 1e-10\n",
    "    \n",
    "    if (abs(f(lbound)) < precision): #if the left bound is the zero\n",
    "        return round(lbound, 10)\n",
    "\n",
    "    elif (abs(f(rbound)) < precision): #if the right bound is the zero\n",
    "        return round(rbound, 10)\n",
    "    \n",
    "    while (rbound-lbound) > precision:\n",
    "        bisection = (lbound+rbound)/2\n",
    "        if f(bisection) == 0:\n",
    "            return round(bisection,10)\n",
    "        elif f(bisection) * f(lbound) <0:\n",
    "            rbound = bisection\n",
    "        else:\n",
    "            lbound = bisection\n",
    "            \n",
    "    return None\n",
    "            \n",
    "    return round(bisection, 10)   \n",
    "    \n",
    "import numpy as np\n",
    "import math\n",
    "\n",
    "def f(x): #test function 4\n",
    "    return math.log(math.cos(x))\n",
    "\n",
    "a = 5 #over this interval, while a root does exist (2pi) the bisection method fails in finding it because both endpoints\n",
    "b = 7 # (cont.) are the same sign. \n",
    "root = roots(f,a,b)\n",
    "if root is not None:\n",
    "    print(\"the root is approximately:\", root)"
   ]
  },
  {
   "cell_type": "code",
   "execution_count": null,
   "id": "80bc6e86",
   "metadata": {},
   "outputs": [],
   "source": []
  }
 ],
 "metadata": {
  "kernelspec": {
   "display_name": "Python 3 (ipykernel)",
   "language": "python",
   "name": "python3"
  },
  "language_info": {
   "codemirror_mode": {
    "name": "ipython",
    "version": 3
   },
   "file_extension": ".py",
   "mimetype": "text/x-python",
   "name": "python",
   "nbconvert_exporter": "python",
   "pygments_lexer": "ipython3",
   "version": "3.11.4"
  }
 },
 "nbformat": 4,
 "nbformat_minor": 5
}
